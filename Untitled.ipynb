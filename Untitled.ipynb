{
 "cells": [
  {
   "cell_type": "code",
   "execution_count": 1,
   "id": "ae842328-9b16-4503-a2fc-820e35afb9f0",
   "metadata": {},
   "outputs": [],
   "source": [
    "def precision_at_k(recommended_list, relevant_list, k):\n",
    "    # Get the top-k recommendations\n",
    "    recommended_list_at_k = recommended_list[:k]\n",
    "    # Count the number of relevant items in the top-k recommendations\n",
    "    relevant_items_at_k = set(recommended_list_at_k) & set(relevant_list)\n",
    "    # Calculate precision@k\n",
    "    precision = len(relevant_items_at_k) / k\n",
    "    return precision\n",
    "\n",
    "def recall_at_k(recommended_list, relevant_list, k):\n",
    "    # Get the top-k recommendations\n",
    "    recommended_list_at_k = recommended_list[:k]\n",
    "    # Count the number of relevant items in the top-k recommendations\n",
    "    relevant_items_at_k = set(recommended_list_at_k) & set(relevant_list)\n",
    "    # Calculate recall@k\n",
    "    recall = len(relevant_items_at_k) / len(relevant_list)\n",
    "    return recall\n",
    "\n",
    "def hit_rate_at_k(recommended_list, relevant_list, k):\n",
    "    # Get the top-k recommendations\n",
    "    recommended_list_at_k = recommended_list[:k]\n",
    "    # Check if at least one of the recommended items is relevant\n",
    "    hit = int(len(set(recommended_list_at_k) & set(relevant_list)) > 0)\n",
    "    return hit\n"
   ]
  },
  {
   "cell_type": "code",
   "execution_count": 2,
   "id": "1a4a5582-f81b-4b92-9aba-919eff5aec84",
   "metadata": {},
   "outputs": [
    {
     "name": "stdout",
     "output_type": "stream",
     "text": [
      "Precision@3: 0.3333333333333333\n",
      "Recall@3: 0.3333333333333333\n",
      "Hit Rate@3: 1\n"
     ]
    }
   ],
   "source": [
    "# Example data\n",
    "recommended_list = ['Iron Man', 'The Avengers', 'Thor', 'Captain America', 'Guardians of the Galaxy']\n",
    "relevant_list = ['The Avengers', 'Guardians of the Galaxy', 'Doctor Strange']\n",
    "\n",
    "# Set the value of K\n",
    "k = 3\n",
    "\n",
    "# Calculate Precision@K\n",
    "precision_k = precision_at_k(recommended_list, relevant_list, k)\n",
    "print(f'Precision@{k}: {precision_k}')\n",
    "\n",
    "# Calculate Recall@K\n",
    "recall_k = recall_at_k(recommended_list, relevant_list, k)\n",
    "print(f'Recall@{k}: {recall_k}')\n",
    "\n",
    "# Calculate Hit Rate@K\n",
    "hit_rate_k = hit_rate_at_k(recommended_list, relevant_list, k)\n",
    "print(f'Hit Rate@{k}: {hit_rate_k}')\n"
   ]
  },
  {
   "cell_type": "code",
   "execution_count": null,
   "id": "e07dbd56-c751-431b-84fa-71d980fa29d6",
   "metadata": {},
   "outputs": [],
   "source": []
  }
 ],
 "metadata": {
  "kernelspec": {
   "display_name": "Python 3 (ipykernel)",
   "language": "python",
   "name": "python3"
  },
  "language_info": {
   "codemirror_mode": {
    "name": "ipython",
    "version": 3
   },
   "file_extension": ".py",
   "mimetype": "text/x-python",
   "name": "python",
   "nbconvert_exporter": "python",
   "pygments_lexer": "ipython3",
   "version": "3.11.7"
  }
 },
 "nbformat": 4,
 "nbformat_minor": 5
}
